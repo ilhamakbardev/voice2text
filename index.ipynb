{
 "cells": [
  {
   "cell_type": "markdown",
   "metadata": {},
   "source": [
    "### install required lib"
   ]
  },
  {
   "cell_type": "code",
   "execution_count": 1,
   "metadata": {},
   "outputs": [
    {
     "name": "stdout",
     "output_type": "stream",
     "text": [
      "Collecting SpeechRecognition\n",
      "  Using cached SpeechRecognition-3.14.1-py3-none-any.whl.metadata (31 kB)\n",
      "Collecting pyaudio\n",
      "  Using cached PyAudio-0.2.14-cp311-cp311-win_amd64.whl.metadata (2.7 kB)\n",
      "Requirement already satisfied: typing-extensions in c:\\users\\user\\desktop\\kp\\project\\voice2text\\.venv\\lib\\site-packages (from SpeechRecognition) (4.12.2)\n",
      "Using cached SpeechRecognition-3.14.1-py3-none-any.whl (32.9 MB)\n",
      "Using cached PyAudio-0.2.14-cp311-cp311-win_amd64.whl (164 kB)\n",
      "Installing collected packages: pyaudio, SpeechRecognition\n",
      "Successfully installed SpeechRecognition-3.14.1 pyaudio-0.2.14\n"
     ]
    },
    {
     "name": "stderr",
     "output_type": "stream",
     "text": [
      "\n",
      "[notice] A new release of pip is available: 24.0 -> 25.0.1\n",
      "[notice] To update, run: python.exe -m pip install --upgrade pip\n"
     ]
    }
   ],
   "source": [
    "!pip install SpeechRecognition pyaudio"
   ]
  },
  {
   "cell_type": "markdown",
   "metadata": {},
   "source": [
    "### main program"
   ]
  },
  {
   "cell_type": "code",
   "execution_count": null,
   "metadata": {},
   "outputs": [
    {
     "name": "stdout",
     "output_type": "stream",
     "text": [
      "Silakan bicara...\n",
      "Anda mengatakan:  halo-halo testing voice to text bahasa Indonesia kalau dia berhasil dia akan muncul di dalam\n"
     ]
    }
   ],
   "source": [
    "import speech_recognition as sr\n",
    "\n",
    "def voice_to_text():\n",
    "    recognizer = sr.Recognizer()\n",
    "    with sr.Microphone() as source:\n",
    "        print(\"Silakan bicara...\")\n",
    "        recognizer.adjust_for_ambient_noise(source)\n",
    "        audio = recognizer.listen(source)\n",
    "\n",
    "        try:\n",
    "            text = recognizer.recognize_google(audio, language=\"id-ID\")\n",
    "            print(\"Anda mengatakan: \", text)\n",
    "        except sr.UnknownValueError:\n",
    "            print(\"Maaf, saya tidak dapat mengenali suara Anda.\")\n",
    "        except sr.RequestError:\n",
    "            print(\"Maaf, layanan tidak tersedia.\")\n",
    "\n",
    "if __name__ == \"__main__\":\n",
    "    voice_to_text()\n"
   ]
  }
 ],
 "metadata": {
  "kernelspec": {
   "display_name": ".venv",
   "language": "python",
   "name": "python3"
  },
  "language_info": {
   "codemirror_mode": {
    "name": "ipython",
    "version": 3
   },
   "file_extension": ".py",
   "mimetype": "text/x-python",
   "name": "python",
   "nbconvert_exporter": "python",
   "pygments_lexer": "ipython3",
   "version": "3.11.9"
  }
 },
 "nbformat": 4,
 "nbformat_minor": 2
}
